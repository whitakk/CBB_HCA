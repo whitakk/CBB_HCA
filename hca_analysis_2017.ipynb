{
 "cells": [
  {
   "cell_type": "code",
   "execution_count": 4,
   "metadata": {
    "collapsed": false,
    "deletable": true,
    "editable": true
   },
   "outputs": [],
   "source": [
    "# %matplotlib inline\n",
    "\n",
    "import pandas as pd\n",
    "import numpy as np\n",
    "import seaborn as sns\n",
    "import requests\n",
    "import re\n",
    "\n",
    "import requests\n",
    "from bs4 import BeautifulSoup, Comment\n",
    "import time\n",
    "\n",
    "import pickle\n",
    "\n",
    "import matplotlib.pyplot as plt\n",
    "import matplotlib as mpl\n",
    "import seaborn as sns"
   ]
  },
  {
   "cell_type": "markdown",
   "metadata": {
    "deletable": true,
    "editable": true
   },
   "source": [
    "## SETUP:"
   ]
  },
  {
   "cell_type": "markdown",
   "metadata": {},
   "source": [
    "Get list of all CBB conferences"
   ]
  },
  {
   "cell_type": "code",
   "execution_count": 5,
   "metadata": {
    "collapsed": false,
    "deletable": true,
    "editable": true
   },
   "outputs": [],
   "source": [
    "url_master = \"https://www.sports-reference.com/cbb/conferences/\"\n",
    "r_master = requests.get(url_master).content\n",
    "soup_master = BeautifulSoup(r_master,'lxml')\n",
    "\n",
    "cols = ['Conference', 'From', 'To', 'W', 'L', 'W-L' ,'SRS', 'SOS', 'AP', 'NCAA', 'FF', 'NC']\n",
    "master_df = pd.DataFrame(columns = cols + ['url'])\n",
    "\n",
    "tbls = soup_master.findAll('table', {'class': 'sortable stats_table'})\n",
    "for t in tbls:\n",
    "    for tr in t.find_all('tr')[1:]:\n",
    "        tds = tr.find_all('td')\n",
    "        \n",
    "        new_df = pd.DataFrame([[elem.text.encode('utf-8') for elem in tds]], columns=cols)\n",
    "        new_df['url'] = tds[0].find('a').get('href')\n",
    "        master_df = master_df.append(new_df)\n",
    "        \n",
    "master_df.to_csv('conference_list.csv', index=False)"
   ]
  },
  {
   "cell_type": "markdown",
   "metadata": {
    "deletable": true,
    "editable": true
   },
   "source": [
    "## MASTER SCRAPING:"
   ]
  },
  {
   "cell_type": "markdown",
   "metadata": {},
   "source": [
    "For all conferences active in NCAAT era, get list of conference games and list of conference tournament games (to remove from full list)"
   ]
  },
  {
   "cell_type": "code",
   "execution_count": 7,
   "metadata": {
    "collapsed": false,
    "deletable": true,
    "editable": true
   },
   "outputs": [],
   "source": [
    "master_df = pd.read_csv('conference_list.csv')"
   ]
  },
  {
   "cell_type": "code",
   "execution_count": 9,
   "metadata": {
    "collapsed": false,
    "deletable": true,
    "editable": true
   },
   "outputs": [
    {
     "data": {
      "text/html": [
       "<div>\n",
       "<table border=\"1\" class=\"dataframe\">\n",
       "  <thead>\n",
       "    <tr style=\"text-align: right;\">\n",
       "      <th></th>\n",
       "      <th>Conference</th>\n",
       "      <th>From</th>\n",
       "      <th>To</th>\n",
       "      <th>W</th>\n",
       "      <th>L</th>\n",
       "      <th>W-L</th>\n",
       "      <th>SRS</th>\n",
       "      <th>SOS</th>\n",
       "      <th>AP</th>\n",
       "      <th>NCAA</th>\n",
       "      <th>FF</th>\n",
       "      <th>NC</th>\n",
       "      <th>url</th>\n",
       "    </tr>\n",
       "  </thead>\n",
       "  <tbody>\n",
       "    <tr>\n",
       "      <th>49</th>\n",
       "      <td>Northern California Conference</td>\n",
       "      <td>1938</td>\n",
       "      <td>1939</td>\n",
       "      <td>106</td>\n",
       "      <td>90</td>\n",
       "      <td>0.541</td>\n",
       "      <td>NaN</td>\n",
       "      <td>NaN</td>\n",
       "      <td>0</td>\n",
       "      <td>0</td>\n",
       "      <td>0</td>\n",
       "      <td>0</td>\n",
       "      <td>/cbb/conferences/northern-ca/</td>\n",
       "    </tr>\n",
       "    <tr>\n",
       "      <th>50</th>\n",
       "      <td>Skyline Conference</td>\n",
       "      <td>1911</td>\n",
       "      <td>1962</td>\n",
       "      <td>4228</td>\n",
       "      <td>3627</td>\n",
       "      <td>0.538</td>\n",
       "      <td>-1.56</td>\n",
       "      <td>-0.56</td>\n",
       "      <td>10</td>\n",
       "      <td>23</td>\n",
       "      <td>3</td>\n",
       "      <td>1</td>\n",
       "      <td>/cbb/conferences/skyline/</td>\n",
       "    </tr>\n",
       "    <tr>\n",
       "      <th>51</th>\n",
       "      <td>Southwest Conference</td>\n",
       "      <td>1915</td>\n",
       "      <td>1996</td>\n",
       "      <td>7892</td>\n",
       "      <td>6982</td>\n",
       "      <td>0.531</td>\n",
       "      <td>0.46</td>\n",
       "      <td>0.92</td>\n",
       "      <td>21</td>\n",
       "      <td>78</td>\n",
       "      <td>12</td>\n",
       "      <td>0</td>\n",
       "      <td>/cbb/conferences/swc/</td>\n",
       "    </tr>\n",
       "    <tr>\n",
       "      <th>52</th>\n",
       "      <td>Western New York Little Three Conference</td>\n",
       "      <td>1947</td>\n",
       "      <td>1958</td>\n",
       "      <td>565</td>\n",
       "      <td>343</td>\n",
       "      <td>0.622</td>\n",
       "      <td>4.21</td>\n",
       "      <td>2.76</td>\n",
       "      <td>3</td>\n",
       "      <td>3</td>\n",
       "      <td>0</td>\n",
       "      <td>0</td>\n",
       "      <td>/cbb/conferences/wny3/</td>\n",
       "    </tr>\n",
       "    <tr>\n",
       "      <th>53</th>\n",
       "      <td>Yankee Conference</td>\n",
       "      <td>1938</td>\n",
       "      <td>1976</td>\n",
       "      <td>1918</td>\n",
       "      <td>1706</td>\n",
       "      <td>0.529</td>\n",
       "      <td>-11.88</td>\n",
       "      <td>-8.73</td>\n",
       "      <td>0</td>\n",
       "      <td>14</td>\n",
       "      <td>0</td>\n",
       "      <td>0</td>\n",
       "      <td>/cbb/conferences/yankee/</td>\n",
       "    </tr>\n",
       "  </tbody>\n",
       "</table>\n",
       "</div>"
      ],
      "text/plain": [
       "                                  Conference  From    To     W     L    W-L  \\\n",
       "49            Northern California Conference  1938  1939   106    90  0.541   \n",
       "50                        Skyline Conference  1911  1962  4228  3627  0.538   \n",
       "51                      Southwest Conference  1915  1996  7892  6982  0.531   \n",
       "52  Western New York Little Three Conference  1947  1958   565   343  0.622   \n",
       "53                         Yankee Conference  1938  1976  1918  1706  0.529   \n",
       "\n",
       "      SRS   SOS  AP  NCAA  FF  NC                            url  \n",
       "49    NaN   NaN   0     0   0   0  /cbb/conferences/northern-ca/  \n",
       "50  -1.56 -0.56  10    23   3   1      /cbb/conferences/skyline/  \n",
       "51   0.46  0.92  21    78  12   0          /cbb/conferences/swc/  \n",
       "52   4.21  2.76   3     3   0   0         /cbb/conferences/wny3/  \n",
       "53 -11.88 -8.73   0    14   0   0       /cbb/conferences/yankee/  "
      ]
     },
     "execution_count": 9,
     "metadata": {},
     "output_type": "execute_result"
    }
   ],
   "source": [
    "# Start analysis at 1939 (previously many teams played as independents)\n",
    "\n",
    "master_df = master_df[master_df['To']>=1939]\n",
    "master_df = master_df[master_df['Conference']!=\"Independent\"]\n",
    "master_df.tail()"
   ]
  },
  {
   "cell_type": "code",
   "execution_count": 10,
   "metadata": {
    "collapsed": true,
    "deletable": true,
    "editable": true
   },
   "outputs": [],
   "source": [
    "url_base = 'https://www.sports-reference.com/'\n",
    "url_cap = '-schedule.html'\n",
    "url_tourney_cap = '.html'\n",
    "years = range(1939, 1980)"
   ]
  },
  {
   "cell_type": "code",
   "execution_count": 11,
   "metadata": {
    "collapsed": true,
    "deletable": true,
    "editable": true
   },
   "outputs": [],
   "source": [
    "def date_parser(s):\n",
    "    return s[5:-6].strip()\n",
    "\n",
    "def date_parser_tourney(s):\n",
    "    return s[5:].strip()"
   ]
  },
  {
   "cell_type": "code",
   "execution_count": 59,
   "metadata": {
    "collapsed": false,
    "deletable": true,
    "editable": true,
    "scrolled": true
   },
   "outputs": [
    {
     "name": "stdout",
     "output_type": "stream",
     "text": [
      "Wall time: 1h 21min 43s\n"
     ]
    }
   ],
   "source": [
    "%%time\n",
    "\n",
    "# MASTER ITERATION:\n",
    "\n",
    "game_cols = ['Date', 'Away', 'Away_Pts', 'Home', 'Home_Pts', 'OT', 'Notes']\n",
    "games_df = pd.DataFrame(columns=game_cols + ['Conference','Year'])\n",
    "tourney_cols = ['Date','Away','Away_Pts','At','Home','Home_Pts','OT','Box']\n",
    "        \n",
    "for index, row in master_df.iterrows():\n",
    "    conf_df = pd.DataFrame(columns=game_cols + ['Conference','Year'])\n",
    "    \n",
    "    for y in years:\n",
    "        # if out of range, skip\n",
    "        if (y < row[1]) or (y > row[2]):\n",
    "            continue\n",
    "        \n",
    "        time.sleep(5)\n",
    "        \n",
    "        # **** GET LIST OF CONFERENCE GAMES ****\n",
    "        \n",
    "        new_df = pd.DataFrame(columns=game_cols)\n",
    "        \n",
    "        u = url_base + row[-1] + str(y) + url_cap\n",
    "        u_tourney = url_base + row[-1] + str(y) + url_tourney_cap\n",
    "        \n",
    "        # get main table of games:\n",
    "        r = requests.get(u).content\n",
    "        soup = BeautifulSoup(r,'lxml')\n",
    "        \n",
    "        if 'Page Not Found' in soup.find('title').text:\n",
    "            continue\n",
    "        \n",
    "        games_tbl = soup.find('table', {'id': 'schedule'})\n",
    "        \n",
    "        # iterate through every game on table:\n",
    "        for tr in games_tbl.findAll('tr'):\n",
    "            tds = tr.findAll(['th', 'td']) # first column = th tags\n",
    "            \n",
    "            temp_df = pd.DataFrame([[elem.text.encode('utf-8') for elem in tds]], columns=game_cols)\n",
    "            new_df = new_df.append(temp_df)\n",
    "            \n",
    "        # remove duplicate header rows and top header row\n",
    "        new_df = new_df.drop_duplicates()[1:]\n",
    "        new_df['Conference'] = row[0]\n",
    "        new_df['Year'] = y\n",
    "        \n",
    "        \n",
    "        # **** GET LIST OF TOURNAMENT GAMES ****\n",
    "        r_tourney = requests.get(u_tourney).content\n",
    "        soup_tourney = BeautifulSoup(r_tourney, 'lxml')\n",
    "        \n",
    "        tourney_df = pd.DataFrame(columns=tourney_cols)\n",
    "        comments = soup_tourney.findAll(text=lambda text:isinstance(text, Comment))\n",
    "\n",
    "        for c in comments:\n",
    "            comment_soup = BeautifulSoup(comments[15], 'lxml')\n",
    "            tourney_tbl = comment_soup.find('table', {'id': 'conference-tournament'})\n",
    "            if tourney_tbl is not None:\n",
    "                break\n",
    "    \n",
    "        # iterate through every game on table:\n",
    "        try: \n",
    "            trs = tourney_tbl.findAll('tr')\n",
    "            for tr in trs:\n",
    "                tds = tr.findAll(['th', 'td']) # first column = th tags\n",
    "                tourney_temp = pd.DataFrame([[elem.text.encode('utf-8') for elem in tds]], columns=tourney_cols)\n",
    "                tourney_df = tourney_df.append(tourney_temp)\n",
    "        except AttributeError: \n",
    "            pass\n",
    "            \n",
    "        \n",
    "        # **** MERGE AND DROP CONFERENCE TOURNAMENT GAMES ****\n",
    "        \n",
    "        new_df['Date_clean'] = new_df['Date'].apply(lambda x: date_parser(str(x)))\n",
    "        \n",
    "        tourney_df['Date_clean'] = tourney_df['Date'].apply(lambda x: date_parser_tourney(str(x)))\n",
    "        tourney_df['Tourney']='Y'\n",
    "        tourney_days = tourney_df[['Date_clean','Tourney']].drop_duplicates()\n",
    "        \n",
    "        new_df = new_df.merge(tourney_days, on='Date_clean', how='left')\n",
    "        new_df = new_df[new_df['Tourney']!=\"Y\"].drop(['Date_clean','Tourney'], axis=1)\n",
    "        \n",
    "        # ADD TO MASTER:\n",
    "        \n",
    "        conf_df = conf_df.append(new_df)\n",
    "        \n",
    "        \n",
    "    games_df = games_df.append(conf_df)\n",
    "    #games_df.to_csv('conference_games_working.csv', index=False)\n",
    "\n",
    "#games_df.to_csv('conference_games.csv', index=False)"
   ]
  },
  {
   "cell_type": "markdown",
   "metadata": {
    "collapsed": true,
    "deletable": true,
    "editable": true
   },
   "source": [
    "## BASELINE ANALYSIS"
   ]
  },
  {
   "cell_type": "markdown",
   "metadata": {},
   "source": [
    "National trend for home-court advantage in conference games over time"
   ]
  },
  {
   "cell_type": "code",
   "execution_count": 12,
   "metadata": {
    "collapsed": false,
    "deletable": true,
    "editable": true
   },
   "outputs": [
    {
     "name": "stderr",
     "output_type": "stream",
     "text": [
      "C:\\Users\\Whitaker Kevin\\AppData\\Local\\Enthought\\Canopy\\edm\\envs\\User\\lib\\site-packages\\IPython\\core\\interactiveshell.py:2717: DtypeWarning: Columns (6) have mixed types. Specify dtype option on import or set low_memory=False.\n",
      "  interactivity=interactivity, compiler=compiler, result=result)\n"
     ]
    },
    {
     "data": {
      "text/html": [
       "<div>\n",
       "<table border=\"1\" class=\"dataframe\">\n",
       "  <thead>\n",
       "    <tr style=\"text-align: right;\">\n",
       "      <th></th>\n",
       "      <th>Date</th>\n",
       "      <th>Away</th>\n",
       "      <th>Away_Pts</th>\n",
       "      <th>Home</th>\n",
       "      <th>Home_Pts</th>\n",
       "      <th>OT</th>\n",
       "      <th>Notes</th>\n",
       "      <th>Conference</th>\n",
       "      <th>Year</th>\n",
       "    </tr>\n",
       "  </thead>\n",
       "  <tbody>\n",
       "    <tr>\n",
       "      <th>count</th>\n",
       "      <td>105575</td>\n",
       "      <td>105575</td>\n",
       "      <td>105575.000000</td>\n",
       "      <td>105575</td>\n",
       "      <td>105575.000000</td>\n",
       "      <td>3892</td>\n",
       "      <td>18</td>\n",
       "      <td>105575</td>\n",
       "      <td>105575.000000</td>\n",
       "    </tr>\n",
       "    <tr>\n",
       "      <th>unique</th>\n",
       "      <td>5539</td>\n",
       "      <td>368</td>\n",
       "      <td>NaN</td>\n",
       "      <td>368</td>\n",
       "      <td>NaN</td>\n",
       "      <td>5</td>\n",
       "      <td>6</td>\n",
       "      <td>48</td>\n",
       "      <td>NaN</td>\n",
       "    </tr>\n",
       "    <tr>\n",
       "      <th>top</th>\n",
       "      <td>Sat, Feb 6, 2016</td>\n",
       "      <td>Georgia</td>\n",
       "      <td>NaN</td>\n",
       "      <td>Alabama</td>\n",
       "      <td>NaN</td>\n",
       "      <td>OT</td>\n",
       "      <td>Conf W Forfeited</td>\n",
       "      <td>Southeastern Conference</td>\n",
       "      <td>NaN</td>\n",
       "    </tr>\n",
       "    <tr>\n",
       "      <th>freq</th>\n",
       "      <td>153</td>\n",
       "      <td>592</td>\n",
       "      <td>NaN</td>\n",
       "      <td>593</td>\n",
       "      <td>NaN</td>\n",
       "      <td>3213</td>\n",
       "      <td>10</td>\n",
       "      <td>6461</td>\n",
       "      <td>NaN</td>\n",
       "    </tr>\n",
       "    <tr>\n",
       "      <th>mean</th>\n",
       "      <td>NaN</td>\n",
       "      <td>NaN</td>\n",
       "      <td>68.855657</td>\n",
       "      <td>NaN</td>\n",
       "      <td>72.669770</td>\n",
       "      <td>NaN</td>\n",
       "      <td>NaN</td>\n",
       "      <td>NaN</td>\n",
       "      <td>1993.931973</td>\n",
       "    </tr>\n",
       "    <tr>\n",
       "      <th>std</th>\n",
       "      <td>NaN</td>\n",
       "      <td>NaN</td>\n",
       "      <td>12.502554</td>\n",
       "      <td>NaN</td>\n",
       "      <td>13.173959</td>\n",
       "      <td>NaN</td>\n",
       "      <td>NaN</td>\n",
       "      <td>NaN</td>\n",
       "      <td>17.563367</td>\n",
       "    </tr>\n",
       "    <tr>\n",
       "      <th>min</th>\n",
       "      <td>NaN</td>\n",
       "      <td>NaN</td>\n",
       "      <td>10.000000</td>\n",
       "      <td>NaN</td>\n",
       "      <td>12.000000</td>\n",
       "      <td>NaN</td>\n",
       "      <td>NaN</td>\n",
       "      <td>NaN</td>\n",
       "      <td>1950.000000</td>\n",
       "    </tr>\n",
       "    <tr>\n",
       "      <th>25%</th>\n",
       "      <td>NaN</td>\n",
       "      <td>NaN</td>\n",
       "      <td>60.000000</td>\n",
       "      <td>NaN</td>\n",
       "      <td>64.000000</td>\n",
       "      <td>NaN</td>\n",
       "      <td>NaN</td>\n",
       "      <td>NaN</td>\n",
       "      <td>1983.000000</td>\n",
       "    </tr>\n",
       "    <tr>\n",
       "      <th>50%</th>\n",
       "      <td>NaN</td>\n",
       "      <td>NaN</td>\n",
       "      <td>68.000000</td>\n",
       "      <td>NaN</td>\n",
       "      <td>72.000000</td>\n",
       "      <td>NaN</td>\n",
       "      <td>NaN</td>\n",
       "      <td>NaN</td>\n",
       "      <td>1998.000000</td>\n",
       "    </tr>\n",
       "    <tr>\n",
       "      <th>75%</th>\n",
       "      <td>NaN</td>\n",
       "      <td>NaN</td>\n",
       "      <td>77.000000</td>\n",
       "      <td>NaN</td>\n",
       "      <td>81.000000</td>\n",
       "      <td>NaN</td>\n",
       "      <td>NaN</td>\n",
       "      <td>NaN</td>\n",
       "      <td>2008.000000</td>\n",
       "    </tr>\n",
       "    <tr>\n",
       "      <th>max</th>\n",
       "      <td>NaN</td>\n",
       "      <td>NaN</td>\n",
       "      <td>155.000000</td>\n",
       "      <td>NaN</td>\n",
       "      <td>157.000000</td>\n",
       "      <td>NaN</td>\n",
       "      <td>NaN</td>\n",
       "      <td>NaN</td>\n",
       "      <td>2017.000000</td>\n",
       "    </tr>\n",
       "  </tbody>\n",
       "</table>\n",
       "</div>"
      ],
      "text/plain": [
       "                    Date     Away       Away_Pts     Home       Home_Pts  \\\n",
       "count             105575   105575  105575.000000   105575  105575.000000   \n",
       "unique              5539      368            NaN      368            NaN   \n",
       "top     Sat, Feb 6, 2016  Georgia            NaN  Alabama            NaN   \n",
       "freq                 153      592            NaN      593            NaN   \n",
       "mean                 NaN      NaN      68.855657      NaN      72.669770   \n",
       "std                  NaN      NaN      12.502554      NaN      13.173959   \n",
       "min                  NaN      NaN      10.000000      NaN      12.000000   \n",
       "25%                  NaN      NaN      60.000000      NaN      64.000000   \n",
       "50%                  NaN      NaN      68.000000      NaN      72.000000   \n",
       "75%                  NaN      NaN      77.000000      NaN      81.000000   \n",
       "max                  NaN      NaN     155.000000      NaN     157.000000   \n",
       "\n",
       "          OT             Notes               Conference           Year  \n",
       "count   3892                18                   105575  105575.000000  \n",
       "unique     5                 6                       48            NaN  \n",
       "top       OT  Conf W Forfeited  Southeastern Conference            NaN  \n",
       "freq    3213                10                     6461            NaN  \n",
       "mean     NaN               NaN                      NaN    1993.931973  \n",
       "std      NaN               NaN                      NaN      17.563367  \n",
       "min      NaN               NaN                      NaN    1950.000000  \n",
       "25%      NaN               NaN                      NaN    1983.000000  \n",
       "50%      NaN               NaN                      NaN    1998.000000  \n",
       "75%      NaN               NaN                      NaN    2008.000000  \n",
       "max      NaN               NaN                      NaN    2017.000000  "
      ]
     },
     "execution_count": 12,
     "metadata": {},
     "output_type": "execute_result"
    }
   ],
   "source": [
    "# feed in cleaned data\n",
    "#master_df = pd.read_csv('conference_games.csv')\n",
    "master_df = games_df\n",
    "master_df.describe(include='all')"
   ]
  },
  {
   "cell_type": "code",
   "execution_count": 14,
   "metadata": {
    "collapsed": false,
    "deletable": true,
    "editable": true
   },
   "outputs": [],
   "source": [
    "master_df['Home_Win'] = np.where( (master_df['Home_Pts'] > master_df['Away_Pts']), 100, 0)\n",
    "master_df['Home_Margin'] = master_df['Home_Pts'] - master_df['Away_Pts']\n",
    "master_sum = master_df.groupby(['Year'])['Home_Win','Home_Margin'].mean()\n",
    "    # average winning percentage and scoring margin for home teams"
   ]
  },
  {
   "cell_type": "code",
   "execution_count": 22,
   "metadata": {
    "collapsed": false,
    "deletable": true,
    "editable": true
   },
   "outputs": [],
   "source": [
    "def draw_graph(df, colors, label_bool): # dataframe of graphs to be drawn; list of colors\n",
    "    \n",
    "    fig, ax = plt.subplots(figsize=(9,5))\n",
    "    plt.tick_params(axis='both', which='major', labelsize=14)\n",
    "\n",
    "    #ax.set_xlabel('Year', fontsize=14)\n",
    "    ax.set_ylabel(y_label, fontsize=14)\n",
    "    \n",
    "    #ax.set_xlim(-0.5,4.5)\n",
    "    #ax.set_ylim(75,125)\n",
    "    \n",
    "    #x_labels = ['< 20', '20-25', '25-30', '30-35', '35 +', '']\n",
    "    #plt.xticks(range(0, 5), x_labels, fontsize=14)\n",
    "    \n",
    "    ix = 0\n",
    "    for i in df.columns:\n",
    "        ax.plot(df[i], '-', color=colors[ix])\n",
    "        if label_bool:\n",
    "            ax.text(2017.5, df.loc[2017, i], i, ha='left', va='center', fontsize=14, color=colors[ix])\n",
    "        ix = ix+1\n",
    "    \n",
    "    if label_bool==False:\n",
    "        # custom labels\n",
    "        ax.text(2017.5, df.loc[2017, df.columns[0]], df.columns[0], ha='left', va='center', fontsize=14, color=colors[0])\n",
    "        ax.text(2017.5, df.loc[2017, df.columns[1]]+0.1, df.columns[1], ha='left', va='center', fontsize=14, color=colors[1])\n",
    "        \n",
    "    ax.set_title(title, fontsize=16)\n",
    "    \n",
    "    y_min = ax.get_ylim()[0]\n",
    "    y_max = ax.get_ylim()[1]\n",
    "    y_range = (y_max - y_min)\n",
    "    #ax.text(2025, y_min - 0.1*y_range, \"Note: Raw data via Sports-Reference.com; analysis by NYC Buckets\", ha='right', va='center', fontsize=10, color=\"#aaaaaa\")\n",
    "    ax.text(2025, y_min - 0.1*y_range, \"Note: Normalized to overall 2017 scoring environment. Raw data via Sports-Reference.com; analysis by NYC Buckets\", ha='right', va='center', fontsize=10, color=\"#aaaaaa\")\n",
    "    \n",
    "    sns.despine()\n",
    "    #return data\n",
    "    "
   ]
  },
  {
   "cell_type": "markdown",
   "metadata": {},
   "source": [
    "##### 1A. What is the trend in home team winning percentage over time?"
   ]
  },
  {
   "cell_type": "code",
   "execution_count": 20,
   "metadata": {
    "collapsed": false,
    "deletable": true,
    "editable": true
   },
   "outputs": [
    {
     "data": {
      "image/png": "[encoded data removed]",
      "text/plain": [
       "<matplotlib.figure.Figure at 0xda7b1d0>"
      ]
     },
     "metadata": {},
     "output_type": "display_data"
    }
   ],
   "source": [
    "### WINNING PERCENTAGE:\n",
    "\n",
    "# general parameters:\n",
    "title = \"Home-court advantage in conference play is falling (I)\"\n",
    "y_label = \"Home team winning percentage (%)\"\n",
    "f_name = \"NCAA_home_court_advantage_win_pct\"\n",
    "colors = ['#ccccff', '#000099']\n",
    "\n",
    "output_pct = master_sum[['Home_Win']].rename(columns={'Home_Win': 'Annual'})\n",
    "output_pct['5Y Avg'] = output_pct['Annual'].rolling(5, center=True, min_periods=1).mean()\n",
    "#output_pct.tail()\n",
    "\n",
    "sns.set_style('white')\n",
    "draw_graph(output_pct, colors, True)\n",
    "#plt.savefig(\"imgs/\"+f_name+\".jpg\", bbox_inches=\"tight\")\n",
    "plt.show()\n",
    "plt.close()"
   ]
  },
  {
   "cell_type": "markdown",
   "metadata": {},
   "source": [
    "##### 1B. What is the trend in home team scoring margin over time?"
   ]
  },
  {
   "cell_type": "code",
   "execution_count": 21,
   "metadata": {
    "collapsed": false,
    "deletable": true,
    "editable": true
   },
   "outputs": [],
   "source": [
    "# calculate index to put scoring margin on constant scale (normalize for total points per game)\n",
    "score_index = master_df[['Year','Home_Pts','Away_Pts']].groupby('Year').mean()\n",
    "score_index['PPG'] = (score_index['Home_Pts'] + score_index['Away_Pts'])/2\n",
    "base = score_index.loc[2017, 'PPG']\n",
    "\n",
    "score_index['Index'] = score_index['PPG'] / base"
   ]
  },
  {
   "cell_type": "code",
   "execution_count": 23,
   "metadata": {
    "collapsed": false,
    "deletable": true,
    "editable": true
   },
   "outputs": [
    {
     "data": {
      "image/png": "[encoded data removed]",
      "text/plain": [
       "<matplotlib.figure.Figure at 0xc7b1da0>"
      ]
     },
     "metadata": {},
     "output_type": "display_data"
    }
   ],
   "source": [
    "### SCORING MARGIN:\n",
    "\n",
    "# general parameters:\n",
    "title = \"Home-court advantage in conference play is falling (II)\"\n",
    "y_label = \"Home team scoring margin (ppg)\"\n",
    "f_name = \"NCAA_home_court_advantage_margin_raw\"\n",
    "colors = ['#ccccff', '#000099']\n",
    "\n",
    "## Normalize for ppg differences\n",
    "#output_mgn = master_sum[['Home_Margin']].merge(score_index[['Index']], left_index=True, right_index=True)\n",
    "#output_mgn['Home_Margin'] = output_mgn['Home_Margin'] / output_mgn['Index']\n",
    "#output_mgn = output_mgn[['Home_Margin','Normalized']].rename(columns={'Home_Margin':'Actual'})\n",
    "#output_mgn.tail()\n",
    "\n",
    "output_mgn = master_sum[['Home_Margin']].rename(columns={'Home_Margin': 'Annual'})\n",
    "output_mgn['5Y Avg'] = output_mgn['Annual'].rolling(5, center=True, min_periods=1).mean()\n",
    "\n",
    "sns.set_style('white')\n",
    "#draw_graph(output_mgn, colors, False)\n",
    "draw_graph(output_mgn, colors, True)\n",
    "plt.savefig(\"imgs/\"+f_name+\".jpg\", bbox_inches=\"tight\")\n",
    "plt.show()\n",
    "plt.close()"
   ]
  },
  {
   "cell_type": "code",
   "execution_count": null,
   "metadata": {
    "collapsed": true,
    "deletable": true,
    "editable": true
   },
   "outputs": [],
   "source": []
  },
  {
   "cell_type": "markdown",
   "metadata": {
    "deletable": true,
    "editable": true
   },
   "source": [
    "## DRIVERS OF HOME-COURT ADVANTAGE"
   ]
  },
  {
   "cell_type": "markdown",
   "metadata": {},
   "source": [
    "##### 2A. Does HCA depend on distance traveled?"
   ]
  },
  {
   "cell_type": "code",
   "execution_count": 24,
   "metadata": {
    "collapsed": false,
    "deletable": true,
    "editable": true
   },
   "outputs": [
    {
     "data": {
      "text/html": [
       "<div>\n",
       "<table border=\"1\" class=\"dataframe\">\n",
       "  <thead>\n",
       "    <tr style=\"text-align: right;\">\n",
       "      <th></th>\n",
       "      <th>School</th>\n",
       "      <th>City, State</th>\n",
       "    </tr>\n",
       "    <tr>\n",
       "      <th>Rk</th>\n",
       "      <th></th>\n",
       "      <th></th>\n",
       "    </tr>\n",
       "  </thead>\n",
       "  <tbody>\n",
       "    <tr>\n",
       "      <th>1</th>\n",
       "      <td>Abilene Christian Wildcats</td>\n",
       "      <td>Abilene, Texas</td>\n",
       "    </tr>\n",
       "    <tr>\n",
       "      <th>2</th>\n",
       "      <td>Air Force Falcons</td>\n",
       "      <td>USAF Academy, Colorado</td>\n",
       "    </tr>\n",
       "    <tr>\n",
       "      <th>3</th>\n",
       "      <td>Akron Zips</td>\n",
       "      <td>Akron, Ohio</td>\n",
       "    </tr>\n",
       "    <tr>\n",
       "      <th>4</th>\n",
       "      <td>Alabama A&amp;M Bulldogs</td>\n",
       "      <td>Normal, Alabama</td>\n",
       "    </tr>\n",
       "    <tr>\n",
       "      <th>5</th>\n",
       "      <td>Alabama Crimson Tide</td>\n",
       "      <td>Tuscaloosa, Alabama</td>\n",
       "    </tr>\n",
       "  </tbody>\n",
       "</table>\n",
       "</div>"
      ],
      "text/plain": [
       "                        School             City, State\n",
       "Rk                                                    \n",
       "1   Abilene Christian Wildcats          Abilene, Texas\n",
       "2            Air Force Falcons  USAF Academy, Colorado\n",
       "3                   Akron Zips             Akron, Ohio\n",
       "4         Alabama A&M Bulldogs         Normal, Alabama\n",
       "5         Alabama Crimson Tide     Tuscaloosa, Alabama"
      ]
     },
     "execution_count": 24,
     "metadata": {},
     "output_type": "execute_result"
    }
   ],
   "source": [
    "from geopy.geocoders import Nominatim\n",
    "\n",
    "school_df = pd.read_csv('school_list.csv', index_col='Rk')\n",
    "school_df.head()"
   ]
  },
  {
   "cell_type": "code",
   "execution_count": 26,
   "metadata": {
    "collapsed": false,
    "deletable": true,
    "editable": true
   },
   "outputs": [
    {
     "name": "stdout",
     "output_type": "stream",
     "text": [
      "Wall time: 5min 27s\n"
     ]
    }
   ],
   "source": [
    "%%time\n",
    "geolocator = Nominatim()\n",
    "\n",
    "for index, row in school_df[290:].iterrows(): # FIX INDEX\n",
    "    geolocator = Nominatim()\n",
    "    location = geolocator.geocode(row[1], timeout=10)\n",
    "    \n",
    "    try: \n",
    "        school_df.loc[index, 'Latitude'] = location.latitude\n",
    "    except AttributeError:\n",
    "        continue\n",
    "\n",
    "    school_df.loc[index, 'Longitude'] = location.longitude\n",
    "    time.sleep(1)\n",
    "    \n",
    "    #if index%10==0:\n",
    "    #    school_df.to_csv('school_locations.csv', index=False)\n",
    "\n",
    "#school_df.to_csv('school_locations.csv', index=False)"
   ]
  },
  {
   "cell_type": "markdown",
   "metadata": {
    "collapsed": true,
    "deletable": true,
    "editable": true
   },
   "source": [
    "Sanitize school name:"
   ]
  },
  {
   "cell_type": "code",
   "execution_count": 33,
   "metadata": {
    "collapsed": false,
    "deletable": true,
    "editable": true
   },
   "outputs": [
    {
     "data": {
      "text/html": [
       "<div>\n",
       "<table border=\"1\" class=\"dataframe\">\n",
       "  <thead>\n",
       "    <tr style=\"text-align: right;\">\n",
       "      <th></th>\n",
       "      <th>href</th>\n",
       "      <th>text</th>\n",
       "    </tr>\n",
       "  </thead>\n",
       "  <tbody>\n",
       "    <tr>\n",
       "      <th>0</th>\n",
       "      <td>/cbb/schools/abilene-christian/</td>\n",
       "      <td>Abilene Christian Wildcats</td>\n",
       "    </tr>\n",
       "    <tr>\n",
       "      <th>0</th>\n",
       "      <td>/cbb/schools/air-force/</td>\n",
       "      <td>Air Force Falcons</td>\n",
       "    </tr>\n",
       "    <tr>\n",
       "      <th>0</th>\n",
       "      <td>/cbb/schools/akron/</td>\n",
       "      <td>Akron Zips</td>\n",
       "    </tr>\n",
       "    <tr>\n",
       "      <th>0</th>\n",
       "      <td>/cbb/schools/alabama-am/</td>\n",
       "      <td>Alabama A&amp;M Bulldogs</td>\n",
       "    </tr>\n",
       "    <tr>\n",
       "      <th>0</th>\n",
       "      <td>/cbb/schools/alabama/</td>\n",
       "      <td>Alabama Crimson Tide</td>\n",
       "    </tr>\n",
       "  </tbody>\n",
       "</table>\n",
       "</div>"
      ],
      "text/plain": [
       "                              href                        text\n",
       "0  /cbb/schools/abilene-christian/  Abilene Christian Wildcats\n",
       "0          /cbb/schools/air-force/           Air Force Falcons\n",
       "0              /cbb/schools/akron/                  Akron Zips\n",
       "0         /cbb/schools/alabama-am/        Alabama A&M Bulldogs\n",
       "0            /cbb/schools/alabama/        Alabama Crimson Tide"
      ]
     },
     "execution_count": 33,
     "metadata": {},
     "output_type": "execute_result"
    }
   ],
   "source": [
    "r = requests.get('https://www.sports-reference.com/cbb/schools/').content\n",
    "soup = BeautifulSoup(r,'lxml')\n",
    "\n",
    "link_cols = ['href', 'text']\n",
    "new_df = pd.DataFrame(columns=link_cols)\n",
    "\n",
    "games_tbl = soup.find('table', {'id': 'schools'})\n",
    "\n",
    "for a in games_tbl.findAll('a'):\n",
    "    txt = a.text\n",
    "    h = a.get('href')\n",
    "    \n",
    "    temp_df = pd.DataFrame([[h, txt]], columns=link_cols)\n",
    "    new_df = new_df.append(temp_df)\n",
    "\n",
    "            \n",
    "# remove duplicate header rows and top header row\n",
    "new_df = new_df.drop_duplicates()\n",
    "new_df.head()"
   ]
  },
  {
   "cell_type": "code",
   "execution_count": 35,
   "metadata": {
    "collapsed": false,
    "deletable": true,
    "editable": true
   },
   "outputs": [],
   "source": [
    "# Temp file to help with name cleaning:\n",
    "\n",
    "new_df['School'] = new_df['text']\n",
    "new_df['Title'] = new_df['href'].apply(lambda x: str(x).split(\"/\")[-2].replace(\"-\", \" \"))\n",
    "#new_df.head()\n",
    "new_df[['School','Title']].to_csv('name_cleaning.csv', index=False)"
   ]
  },
  {
   "cell_type": "code",
   "execution_count": 36,
   "metadata": {
    "collapsed": false,
    "deletable": true,
    "editable": true
   },
   "outputs": [],
   "source": [
    "# Pick up from cleaned file:\n",
    "\n",
    "school_df = pd.read_csv('school_locations.csv')\n",
    "helper_df = pd.read_csv('names_clean.csv')\n",
    "helper_df.head()\n",
    "school_df = school_df.merge(helper_df[['School','Title_Clean']], how='left', on='School').drop('School', axis=1).rename(columns={'Title_Clean':'School'})\n",
    "school_df.head()\n",
    "\n",
    "# feed in game data\n",
    "master_df = pd.read_csv('conference_games.csv')\n",
    "#master_df = games_df\n",
    "master_df['Home_Win'] = np.where( (master_df['Home_Pts'] > master_df['Away_Pts']), 100, 0)\n",
    "master_df['Home_Margin'] = master_df['Home_Pts'] - master_df['Away_Pts']\n",
    "#master_df.describe()"
   ]
  },
  {
   "cell_type": "code",
   "execution_count": 37,
   "metadata": {
    "collapsed": false,
    "deletable": true,
    "editable": true
   },
   "outputs": [],
   "source": [
    "# Prepare to calculate distance:\n",
    "dist_df = master_df.merge(school_df[['School','Latitude','Longitude']], how='left', left_on='Away', right_on='School', suffixes=('','_Away'))\\\n",
    "                    .merge(school_df[['School','Latitude','Longitude']], how='left', left_on='Home', right_on='School', suffixes=('','_Home'))\n",
    "\n",
    "#dist_df.head()"
   ]
  },
  {
   "cell_type": "code",
   "execution_count": 38,
   "metadata": {
    "collapsed": true,
    "deletable": true,
    "editable": true
   },
   "outputs": [],
   "source": [
    "import math\n",
    "\n",
    "def distance(origin, destination):\n",
    "    lat1, lon1 = origin\n",
    "    lat2, lon2 = destination\n",
    "    radius = 3959 # miles\n",
    "\n",
    "    dlat = math.radians(lat2-lat1)\n",
    "    dlon = math.radians(lon2-lon1)\n",
    "    a = math.sin(dlat/2) * math.sin(dlat/2) + math.cos(math.radians(lat1)) \\\n",
    "        * math.cos(math.radians(lat2)) * math.sin(dlon/2) * math.sin(dlon/2)\n",
    "    c = 2 * math.atan2(math.sqrt(a), math.sqrt(1-a))\n",
    "    d = radius * c\n",
    "\n",
    "    return d"
   ]
  },
  {
   "cell_type": "code",
   "execution_count": 56,
   "metadata": {
    "collapsed": false,
    "deletable": true,
    "editable": true
   },
   "outputs": [
    {
     "name": "stderr",
     "output_type": "stream",
     "text": [
      "\n",
      "KeyboardInterrupt\n",
      "\n"
     ]
    }
   ],
   "source": [
    "%%time\n",
    "dist_df = dist_df[['Year','Home_Win','Home_Margin','Latitude','Longitude','Latitude_Home','Longitude_Home']]\n",
    "\n",
    "for index, row in dist_df.iterrows():\n",
    "    loc1 = (row[3], row[4])\n",
    "    loc2 = (row[5], row[6])\n",
    "    dist_df.loc[index, 'Distance'] = distance(loc1, loc2)\n",
    "#dist_df.head()"
   ]
  },
  {
   "cell_type": "code",
   "execution_count": 39,
   "metadata": {
    "collapsed": false,
    "deletable": true,
    "editable": true
   },
   "outputs": [
    {
     "data": {
      "text/html": [
       "<div>\n",
       "<table border=\"1\" class=\"dataframe\">\n",
       "  <thead>\n",
       "    <tr style=\"text-align: right;\">\n",
       "      <th></th>\n",
       "      <th>Year</th>\n",
       "      <th>Home_Win</th>\n",
       "      <th>Home_Margin</th>\n",
       "      <th>Latitude</th>\n",
       "      <th>Longitude</th>\n",
       "      <th>Latitude_Home</th>\n",
       "      <th>Longitude_Home</th>\n",
       "      <th>Distance</th>\n",
       "      <th>D</th>\n",
       "    </tr>\n",
       "  </thead>\n",
       "  <tbody>\n",
       "    <tr>\n",
       "      <th>0</th>\n",
       "      <td>2014</td>\n",
       "      <td>0</td>\n",
       "      <td>-25</td>\n",
       "      <td>38.254238</td>\n",
       "      <td>-85.759407</td>\n",
       "      <td>28.542123</td>\n",
       "      <td>-81.379047</td>\n",
       "      <td>716.828787</td>\n",
       "      <td>&gt;500 mi</td>\n",
       "    </tr>\n",
       "    <tr>\n",
       "      <th>1</th>\n",
       "      <td>2014</td>\n",
       "      <td>100</td>\n",
       "      <td>4</td>\n",
       "      <td>41.808431</td>\n",
       "      <td>-72.249523</td>\n",
       "      <td>29.758938</td>\n",
       "      <td>-95.367697</td>\n",
       "      <td>1532.554305</td>\n",
       "      <td>&gt;500 mi</td>\n",
       "    </tr>\n",
       "    <tr>\n",
       "      <th>2</th>\n",
       "      <td>2014</td>\n",
       "      <td>0</td>\n",
       "      <td>-15</td>\n",
       "      <td>35.149022</td>\n",
       "      <td>-90.051629</td>\n",
       "      <td>27.947759</td>\n",
       "      <td>-82.458444</td>\n",
       "      <td>668.486033</td>\n",
       "      <td>&gt;500 mi</td>\n",
       "    </tr>\n",
       "    <tr>\n",
       "      <th>3</th>\n",
       "      <td>2014</td>\n",
       "      <td>100</td>\n",
       "      <td>8</td>\n",
       "      <td>32.776272</td>\n",
       "      <td>-96.796856</td>\n",
       "      <td>39.101454</td>\n",
       "      <td>-84.512460</td>\n",
       "      <td>813.300953</td>\n",
       "      <td>&gt;500 mi</td>\n",
       "    </tr>\n",
       "    <tr>\n",
       "      <th>4</th>\n",
       "      <td>2014</td>\n",
       "      <td>100</td>\n",
       "      <td>5</td>\n",
       "      <td>39.952399</td>\n",
       "      <td>-75.163590</td>\n",
       "      <td>40.486217</td>\n",
       "      <td>-74.451817</td>\n",
       "      <td>52.638549</td>\n",
       "      <td>&lt;200 mi</td>\n",
       "    </tr>\n",
       "  </tbody>\n",
       "</table>\n",
       "</div>"
      ],
      "text/plain": [
       "   Year  Home_Win  Home_Margin   Latitude  Longitude  Latitude_Home  \\\n",
       "0  2014         0          -25  38.254238 -85.759407      28.542123   \n",
       "1  2014       100            4  41.808431 -72.249523      29.758938   \n",
       "2  2014         0          -15  35.149022 -90.051629      27.947759   \n",
       "3  2014       100            8  32.776272 -96.796856      39.101454   \n",
       "4  2014       100            5  39.952399 -75.163590      40.486217   \n",
       "\n",
       "   Longitude_Home     Distance        D  \n",
       "0      -81.379047   716.828787  >500 mi  \n",
       "1      -95.367697  1532.554305  >500 mi  \n",
       "2      -82.458444   668.486033  >500 mi  \n",
       "3      -84.512460   813.300953  >500 mi  \n",
       "4      -74.451817    52.638549  <200 mi  "
      ]
     },
     "execution_count": 39,
     "metadata": {},
     "output_type": "execute_result"
    }
   ],
   "source": [
    "bins = [-1, 200, 500, 9999]\n",
    "lbls =['<200 mi','200-500','>500 mi']\n",
    "\n",
    "dist_df['D'] = pd.cut(dist_df['Distance'], bins, labels=lbls)\n",
    "dist_df.head()\n",
    "#dist_df.to_csv('raw_distance_data.csv', index=False)"
   ]
  },
  {
   "cell_type": "code",
   "execution_count": 59,
   "metadata": {
    "collapsed": true,
    "deletable": true,
    "editable": true
   },
   "outputs": [],
   "source": [
    "metric = \"Home_Margin\" # toggle with Home_Win to analyze different metrics"
   ]
  },
  {
   "cell_type": "code",
   "execution_count": 60,
   "metadata": {
    "collapsed": true,
    "deletable": true,
    "editable": true
   },
   "outputs": [],
   "source": [
    "# Normalize scoring margin to constant PPG environment\n",
    "score_index = master_df[['Year','Home_Pts','Away_Pts']].groupby('Year').mean()\n",
    "score_index['PPG'] = (score_index['Home_Pts'] + score_index['Away_Pts'])/2\n",
    "base = score_index.loc[2017, 'PPG']\n",
    "\n",
    "score_index['Index'] = score_index['PPG'] / base"
   ]
  },
  {
   "cell_type": "code",
   "execution_count": 61,
   "metadata": {
    "collapsed": false,
    "deletable": true,
    "editable": true
   },
   "outputs": [
    {
     "data": {
      "text/html": [
       "<div>\n",
       "<table border=\"1\" class=\"dataframe\">\n",
       "  <thead>\n",
       "    <tr style=\"text-align: right;\">\n",
       "      <th>D</th>\n",
       "      <th>200-500</th>\n",
       "      <th>&lt;200 mi</th>\n",
       "      <th>&gt;500 mi</th>\n",
       "    </tr>\n",
       "    <tr>\n",
       "      <th>Year</th>\n",
       "      <th></th>\n",
       "      <th></th>\n",
       "      <th></th>\n",
       "    </tr>\n",
       "  </thead>\n",
       "  <tbody>\n",
       "    <tr>\n",
       "      <th>1950</th>\n",
       "      <td>5.822884</td>\n",
       "      <td>4.145970</td>\n",
       "      <td>8.557802</td>\n",
       "    </tr>\n",
       "    <tr>\n",
       "      <th>1951</th>\n",
       "      <td>5.433891</td>\n",
       "      <td>4.146187</td>\n",
       "      <td>7.645185</td>\n",
       "    </tr>\n",
       "    <tr>\n",
       "      <th>1952</th>\n",
       "      <td>5.431790</td>\n",
       "      <td>4.155139</td>\n",
       "      <td>7.870579</td>\n",
       "    </tr>\n",
       "    <tr>\n",
       "      <th>1953</th>\n",
       "      <td>4.892463</td>\n",
       "      <td>4.071802</td>\n",
       "      <td>7.417462</td>\n",
       "    </tr>\n",
       "    <tr>\n",
       "      <th>1954</th>\n",
       "      <td>4.888439</td>\n",
       "      <td>4.277805</td>\n",
       "      <td>7.467369</td>\n",
       "    </tr>\n",
       "  </tbody>\n",
       "</table>\n",
       "</div>"
      ],
      "text/plain": [
       "D      200-500   <200 mi   >500 mi\n",
       "Year                              \n",
       "1950  5.822884  4.145970  8.557802\n",
       "1951  5.433891  4.146187  7.645185\n",
       "1952  5.431790  4.155139  7.870579\n",
       "1953  4.892463  4.071802  7.417462\n",
       "1954  4.888439  4.277805  7.467369"
      ]
     },
     "execution_count": 61,
     "metadata": {},
     "output_type": "execute_result"
    }
   ],
   "source": [
    "mid_df = dist_df.groupby(['Year','D'])[metric].mean().reset_index()\n",
    "\n",
    "# If using scoring margin, merge in normalized metric:\n",
    "if metric == \"Home_Margin\":\n",
    "    mid_df = mid_df.merge(score_index[['Index']], left_on='Year', right_index=True)\n",
    "    mid_df['Home_Margin'] = mid_df['Home_Margin'] / mid_df['Index']\n",
    "\n",
    "\n",
    "mid_df = mid_df.pivot('Year','D',metric)\n",
    "\n",
    "graph_df = mid_df.rolling(5, center=True, min_periods=1).mean()\n",
    "graph_df.head()"
   ]
  },
  {
   "cell_type": "code",
   "execution_count": 62,
   "metadata": {
    "collapsed": true,
    "deletable": true,
    "editable": true
   },
   "outputs": [],
   "source": [
    "def draw_graph(df, colors, label_bool): # dataframe of graphs to be drawn; list of colors\n",
    "    \n",
    "    fig, ax = plt.subplots(figsize=(9,5))\n",
    "    plt.tick_params(axis='both', which='major', labelsize=14)\n",
    "\n",
    "    #ax.set_xlabel('Year', fontsize=14)\n",
    "    ax.set_ylabel(y_label, fontsize=14)\n",
    "    \n",
    "    #ax.set_xlim(-0.5,4.5)\n",
    "    #ax.set_ylim(75,125)\n",
    "    \n",
    "    #x_labels = ['< 20', '20-25', '25-30', '30-35', '35 +', '']\n",
    "    #plt.xticks(range(0, 5), x_labels, fontsize=14)\n",
    "    \n",
    "    ix = 0\n",
    "    for i in df.columns:\n",
    "        ax.plot(df[i], '-', color=colors[ix])\n",
    "        if label_bool:\n",
    "            ax.text(2017.5, df.loc[2017, i], i, ha='left', va='center', fontsize=14, color=colors[ix])\n",
    "        ix = ix+1\n",
    "    \n",
    "    if label_bool==False:\n",
    "        # custom labels\n",
    "        ax.text(2017.5, df.loc[2017, df.columns[0]]-0.1, df.columns[0], ha='left', va='center', fontsize=14, color=colors[0])\n",
    "        ax.text(2017.5, df.loc[2017, df.columns[1]], df.columns[1], ha='left', va='center', fontsize=14, color=colors[1])\n",
    "        ax.text(2017.5, df.loc[2017, df.columns[2]], df.columns[2], ha='left', va='center', fontsize=14, color=colors[2])\n",
    "        \n",
    "    ax.set_title(title, fontsize=16)\n",
    "    \n",
    "    y_min = ax.get_ylim()[0]\n",
    "    y_max = ax.get_ylim()[1]\n",
    "    y_range = (y_max - y_min)\n",
    "    ax.text(2025, y_min - 0.1*y_range, \"Note: 5-year rolling average normalized to 2017 avg ppg. Raw data via Sports-Reference.com; analysis by NYC Buckets\", ha='right', va='center', fontsize=10, color=\"#aaaaaa\")\n",
    "    \n",
    "    sns.despine()\n",
    "    #return data\n",
    "    "
   ]
  },
  {
   "cell_type": "code",
   "execution_count": 63,
   "metadata": {
    "collapsed": false,
    "deletable": true,
    "editable": true
   },
   "outputs": [
    {
     "data": {
      "image/png": "[encoded data removed]",
      "text/plain": [
       "<matplotlib.figure.Figure at 0xc2391d0>"
      ]
     },
     "metadata": {},
     "output_type": "display_data"
    }
   ],
   "source": [
    "# general parameters:\n",
    "title = \"Home-court advantage remains stronger for longer road trips\"\n",
    "y_label = \"Home team scoring margin (ppg)\"\n",
    "f_name = \"NCAA_home_court_advantage_distance\"\n",
    "colors = ['#eb984e', '#f7db6f','#ba4a00']\n",
    "\n",
    "sns.set_style('white')\n",
    "draw_graph(graph_df, colors, False)\n",
    "plt.savefig(\"imgs/\"+f_name+\".jpg\", bbox_inches=\"tight\")\n",
    "plt.show()\n",
    "plt.close()"
   ]
  },
  {
   "cell_type": "markdown",
   "metadata": {
    "collapsed": true,
    "deletable": true,
    "editable": true
   },
   "source": [
    "Home-court advantage is stronger for longer road trips than shorter ones\n",
    "\n",
    "However, the difference has been roughly stable since the 90s, suggesting better travel methods do not explain the recent decline."
   ]
  },
  {
   "cell_type": "markdown",
   "metadata": {
    "deletable": true,
    "editable": true
   },
   "source": [
    "##### 2B. Is HCA stronger for power conferences or mid-majors?"
   ]
  },
  {
   "cell_type": "code",
   "execution_count": null,
   "metadata": {
    "collapsed": true
   },
   "outputs": [],
   "source": [
    "input_df = pd.read_csv('conference_list.csv')\n",
    "\n",
    "conf_df = pd.read_csv('conference_games.csv')[['Conference','Year']].drop_duplicates().reset_index()\n",
    "conf_df = conf_df[['Conference','Year']].merge(input_df[['Conference','Type']], how='left', on='Conference')\n",
    "conf_df.head()"
   ]
  },
  {
   "cell_type": "markdown",
   "metadata": {},
   "source": [
    "Define conference strength:"
   ]
  },
  {
   "cell_type": "code",
   "execution_count": null,
   "metadata": {
    "collapsed": true
   },
   "outputs": [],
   "source": [
    "%%time\n",
    "\n",
    "### Iterate through conference lists by year to find number of NCAA tournament bids\n",
    "url_base = 'https://www.sports-reference.com/'\n",
    "cols = ['Rk', 'Season', 'Schls', 'W', 'L', 'W-L%', 'SRS', 'SOS', 'AP', 'NCAA', 'Regular Season Champ', 'Tournament Champ', 'POY']\n",
    "conf_master = pd.DataFrame(columns=cols)\n",
    "conf_master['Conference'] = \"\"\n",
    "\n",
    "for index, row in input_df[['Conference','url','Type']].iterrows():\n",
    "    \n",
    "    time.sleep(5)\n",
    "        \n",
    "    u = url_base + row[1]\n",
    "    \n",
    "    # get main table of games:\n",
    "    r = requests.get(u).content\n",
    "    soup = BeautifulSoup(r,'lxml')\n",
    "        \n",
    "    if 'Page Not Found' in soup.find('title').text:\n",
    "        continue\n",
    "        \n",
    "    conf_tbl = soup.find('table', {'class': 'sortable stats_table'})\n",
    "    new_df = pd.DataFrame(columns=cols)\n",
    "    \n",
    "    # iterate through every game on table:\n",
    "    for tr in conf_tbl.findAll('tr'):\n",
    "        tds = tr.findAll(['th', 'td']) # first column = th tags\n",
    "            \n",
    "        temp_df = pd.DataFrame([[elem.text.encode('utf-8') for elem in tds]], columns=cols)\n",
    "        new_df = new_df.append(temp_df)\n",
    "        \n",
    "    new_df['Conference'] = row[0]\n",
    "    \n",
    "    \n",
    "    # remove duplicate header rows and top header row\n",
    "    new_df = new_df.drop_duplicates()[1:]\n",
    "    \n",
    "    conf_master = conf_master.append(new_df)\n",
    "\n",
    "\n",
    "conf_master['Year'] = conf_master['Season'].apply(lambda x: float(str(x)[:4]) + 1)\n",
    "conf_master.to_csv('conference_details.csv')"
   ]
  },
  {
   "cell_type": "code",
   "execution_count": 16,
   "metadata": {
    "collapsed": false,
    "deletable": true,
    "editable": true
   },
   "outputs": [],
   "source": [
    "conf_master = pd.read_csv('conference_details_raw.csv')\n",
    "\n",
    "conf_master = conf_master.sort_values(['Conference','Year']).apply(pd.to_numeric, errors='ignore').reset_index()\n",
    "#conf_master = conf_master.groupby(['Conference','Year']).first()\n",
    "\n",
    "temp_df = conf_master.groupby(['Conference'])['NCAA'].rolling(3, center=True, min_periods=1).mean().reset_index().rename(columns={'NCAA':'NCAA_3Y'})\n",
    "conf_master = conf_master.merge(temp_df, how='left', left_index=True, right_index=True, suffixes=(\"\",\"_temp\"))\n",
    "\n",
    "conf_master['Type'] = np.where((conf_master['NCAA_3Y'] >= 2), \"Multi\", \"Other\")\n",
    "    # Multi-bid league if avg 2 bids over 3-year period\n",
    "\n",
    "#conf_master.to_csv('conference_details.csv')"
   ]
  },
  {
   "cell_type": "markdown",
   "metadata": {
    "deletable": true,
    "editable": true
   },
   "source": [
    "START ANALYSIS"
   ]
  },
  {
   "cell_type": "code",
   "execution_count": 23,
   "metadata": {
    "collapsed": false,
    "deletable": true,
    "editable": true
   },
   "outputs": [],
   "source": [
    "# Pick up from file:\n",
    "power_conf = pd.read_csv('conference_list.csv')[['Conference','Type']]\n",
    "multi_conf = pd.read_csv('conference_details.csv')[['Conference','Year','NCAA_3Y','Type']]\n",
    "\n",
    "# feed in cleaned data\n",
    "games_df = pd.read_csv('conference_games.csv')\n",
    "games_df['Home_Win'] = np.where( (games_df['Home_Pts'] > games_df['Away_Pts']), 100, 0)\n",
    "games_df['Home_Margin'] = games_df['Home_Pts'] - games_df['Away_Pts']\n",
    "#games_df.describe(include='all')"
   ]
  },
  {
   "cell_type": "code",
   "execution_count": 31,
   "metadata": {
    "collapsed": false,
    "deletable": true,
    "editable": true,
    "scrolled": false
   },
   "outputs": [
    {
     "data": {
      "text/html": [
       "<div>\n",
       "<table border=\"1\" class=\"dataframe\">\n",
       "  <thead>\n",
       "    <tr style=\"text-align: right;\">\n",
       "      <th></th>\n",
       "      <th>Date</th>\n",
       "      <th>Away</th>\n",
       "      <th>Away_Pts</th>\n",
       "      <th>Home</th>\n",
       "      <th>Home_Pts</th>\n",
       "      <th>OT</th>\n",
       "      <th>Notes</th>\n",
       "      <th>Conference</th>\n",
       "      <th>Year</th>\n",
       "      <th>Home_Win</th>\n",
       "      <th>Home_Margin</th>\n",
       "      <th>Type</th>\n",
       "      <th>NCAA_3Y</th>\n",
       "      <th>Type_multi</th>\n",
       "      <th>Category</th>\n",
       "    </tr>\n",
       "  </thead>\n",
       "  <tbody>\n",
       "    <tr>\n",
       "      <th>count</th>\n",
       "      <td>105575</td>\n",
       "      <td>105575</td>\n",
       "      <td>105575.000000</td>\n",
       "      <td>105575</td>\n",
       "      <td>105575.000000</td>\n",
       "      <td>3892</td>\n",
       "      <td>18</td>\n",
       "      <td>105575</td>\n",
       "      <td>105575.000000</td>\n",
       "      <td>105575.000000</td>\n",
       "      <td>105575.000000</td>\n",
       "      <td>28548</td>\n",
       "      <td>105575.000000</td>\n",
       "      <td>105575</td>\n",
       "      <td>105575</td>\n",
       "    </tr>\n",
       "    <tr>\n",
       "      <th>unique</th>\n",
       "      <td>5539</td>\n",
       "      <td>368</td>\n",
       "      <td>NaN</td>\n",
       "      <td>368</td>\n",
       "      <td>NaN</td>\n",
       "      <td>5</td>\n",
       "      <td>6</td>\n",
       "      <td>48</td>\n",
       "      <td>NaN</td>\n",
       "      <td>NaN</td>\n",
       "      <td>NaN</td>\n",
       "      <td>1</td>\n",
       "      <td>NaN</td>\n",
       "      <td>2</td>\n",
       "      <td>3</td>\n",
       "    </tr>\n",
       "    <tr>\n",
       "      <th>top</th>\n",
       "      <td>Sat, Feb 6, 2016</td>\n",
       "      <td>Georgia</td>\n",
       "      <td>NaN</td>\n",
       "      <td>Alabama</td>\n",
       "      <td>NaN</td>\n",
       "      <td>OT</td>\n",
       "      <td>Conf W Forfeited</td>\n",
       "      <td>Southeastern Conference</td>\n",
       "      <td>NaN</td>\n",
       "      <td>NaN</td>\n",
       "      <td>NaN</td>\n",
       "      <td>Power</td>\n",
       "      <td>NaN</td>\n",
       "      <td>Other</td>\n",
       "      <td>Other</td>\n",
       "    </tr>\n",
       "    <tr>\n",
       "      <th>freq</th>\n",
       "      <td>153</td>\n",
       "      <td>592</td>\n",
       "      <td>NaN</td>\n",
       "      <td>593</td>\n",
       "      <td>NaN</td>\n",
       "      <td>3213</td>\n",
       "      <td>10</td>\n",
       "      <td>6461</td>\n",
       "      <td>NaN</td>\n",
       "      <td>NaN</td>\n",
       "      <td>NaN</td>\n",
       "      <td>28548</td>\n",
       "      <td>NaN</td>\n",
       "      <td>75752</td>\n",
       "      <td>66641</td>\n",
       "    </tr>\n",
       "    <tr>\n",
       "      <th>mean</th>\n",
       "      <td>NaN</td>\n",
       "      <td>NaN</td>\n",
       "      <td>68.855657</td>\n",
       "      <td>NaN</td>\n",
       "      <td>72.669770</td>\n",
       "      <td>NaN</td>\n",
       "      <td>NaN</td>\n",
       "      <td>NaN</td>\n",
       "      <td>1993.931973</td>\n",
       "      <td>62.205067</td>\n",
       "      <td>3.814113</td>\n",
       "      <td>NaN</td>\n",
       "      <td>1.945544</td>\n",
       "      <td>NaN</td>\n",
       "      <td>NaN</td>\n",
       "    </tr>\n",
       "    <tr>\n",
       "      <th>std</th>\n",
       "      <td>NaN</td>\n",
       "      <td>NaN</td>\n",
       "      <td>12.502554</td>\n",
       "      <td>NaN</td>\n",
       "      <td>13.173959</td>\n",
       "      <td>NaN</td>\n",
       "      <td>NaN</td>\n",
       "      <td>NaN</td>\n",
       "      <td>17.563367</td>\n",
       "      <td>48.487716</td>\n",
       "      <td>13.186141</td>\n",
       "      <td>NaN</td>\n",
       "      <td>1.689333</td>\n",
       "      <td>NaN</td>\n",
       "      <td>NaN</td>\n",
       "    </tr>\n",
       "    <tr>\n",
       "      <th>min</th>\n",
       "      <td>NaN</td>\n",
       "      <td>NaN</td>\n",
       "      <td>10.000000</td>\n",
       "      <td>NaN</td>\n",
       "      <td>12.000000</td>\n",
       "      <td>NaN</td>\n",
       "      <td>NaN</td>\n",
       "      <td>NaN</td>\n",
       "      <td>1950.000000</td>\n",
       "      <td>0.000000</td>\n",
       "      <td>-74.000000</td>\n",
       "      <td>NaN</td>\n",
       "      <td>0.000000</td>\n",
       "      <td>NaN</td>\n",
       "      <td>NaN</td>\n",
       "    </tr>\n",
       "    <tr>\n",
       "      <th>25%</th>\n",
       "      <td>NaN</td>\n",
       "      <td>NaN</td>\n",
       "      <td>60.000000</td>\n",
       "      <td>NaN</td>\n",
       "      <td>64.000000</td>\n",
       "      <td>NaN</td>\n",
       "      <td>NaN</td>\n",
       "      <td>NaN</td>\n",
       "      <td>1983.000000</td>\n",
       "      <td>0.000000</td>\n",
       "      <td>-5.000000</td>\n",
       "      <td>NaN</td>\n",
       "      <td>1.000000</td>\n",
       "      <td>NaN</td>\n",
       "      <td>NaN</td>\n",
       "    </tr>\n",
       "    <tr>\n",
       "      <th>50%</th>\n",
       "      <td>NaN</td>\n",
       "      <td>NaN</td>\n",
       "      <td>68.000000</td>\n",
       "      <td>NaN</td>\n",
       "      <td>72.000000</td>\n",
       "      <td>NaN</td>\n",
       "      <td>NaN</td>\n",
       "      <td>NaN</td>\n",
       "      <td>1998.000000</td>\n",
       "      <td>100.000000</td>\n",
       "      <td>4.000000</td>\n",
       "      <td>NaN</td>\n",
       "      <td>1.000000</td>\n",
       "      <td>NaN</td>\n",
       "      <td>NaN</td>\n",
       "    </tr>\n",
       "    <tr>\n",
       "      <th>75%</th>\n",
       "      <td>NaN</td>\n",
       "      <td>NaN</td>\n",
       "      <td>77.000000</td>\n",
       "      <td>NaN</td>\n",
       "      <td>81.000000</td>\n",
       "      <td>NaN</td>\n",
       "      <td>NaN</td>\n",
       "      <td>NaN</td>\n",
       "      <td>2008.000000</td>\n",
       "      <td>100.000000</td>\n",
       "      <td>12.000000</td>\n",
       "      <td>NaN</td>\n",
       "      <td>2.000000</td>\n",
       "      <td>NaN</td>\n",
       "      <td>NaN</td>\n",
       "    </tr>\n",
       "    <tr>\n",
       "      <th>max</th>\n",
       "      <td>NaN</td>\n",
       "      <td>NaN</td>\n",
       "      <td>155.000000</td>\n",
       "      <td>NaN</td>\n",
       "      <td>157.000000</td>\n",
       "      <td>NaN</td>\n",
       "      <td>NaN</td>\n",
       "      <td>NaN</td>\n",
       "      <td>2017.000000</td>\n",
       "      <td>100.000000</td>\n",
       "      <td>87.000000</td>\n",
       "      <td>NaN</td>\n",
       "      <td>9.333333</td>\n",
       "      <td>NaN</td>\n",
       "      <td>NaN</td>\n",
       "    </tr>\n",
       "  </tbody>\n",
       "</table>\n",
       "</div>"
      ],
      "text/plain": [
       "                    Date     Away       Away_Pts     Home       Home_Pts  \\\n",
       "count             105575   105575  105575.000000   105575  105575.000000   \n",
       "unique              5539      368            NaN      368            NaN   \n",
       "top     Sat, Feb 6, 2016  Georgia            NaN  Alabama            NaN   \n",
       "freq                 153      592            NaN      593            NaN   \n",
       "mean                 NaN      NaN      68.855657      NaN      72.669770   \n",
       "std                  NaN      NaN      12.502554      NaN      13.173959   \n",
       "min                  NaN      NaN      10.000000      NaN      12.000000   \n",
       "25%                  NaN      NaN      60.000000      NaN      64.000000   \n",
       "50%                  NaN      NaN      68.000000      NaN      72.000000   \n",
       "75%                  NaN      NaN      77.000000      NaN      81.000000   \n",
       "max                  NaN      NaN     155.000000      NaN     157.000000   \n",
       "\n",
       "          OT             Notes               Conference           Year  \\\n",
       "count   3892                18                   105575  105575.000000   \n",
       "unique     5                 6                       48            NaN   \n",
       "top       OT  Conf W Forfeited  Southeastern Conference            NaN   \n",
       "freq    3213                10                     6461            NaN   \n",
       "mean     NaN               NaN                      NaN    1993.931973   \n",
       "std      NaN               NaN                      NaN      17.563367   \n",
       "min      NaN               NaN                      NaN    1950.000000   \n",
       "25%      NaN               NaN                      NaN    1983.000000   \n",
       "50%      NaN               NaN                      NaN    1998.000000   \n",
       "75%      NaN               NaN                      NaN    2008.000000   \n",
       "max      NaN               NaN                      NaN    2017.000000   \n",
       "\n",
       "             Home_Win    Home_Margin   Type        NCAA_3Y Type_multi Category  \n",
       "count   105575.000000  105575.000000  28548  105575.000000     105575   105575  \n",
       "unique            NaN            NaN      1            NaN          2        3  \n",
       "top               NaN            NaN  Power            NaN      Other    Other  \n",
       "freq              NaN            NaN  28548            NaN      75752    66641  \n",
       "mean        62.205067       3.814113    NaN       1.945544        NaN      NaN  \n",
       "std         48.487716      13.186141    NaN       1.689333        NaN      NaN  \n",
       "min          0.000000     -74.000000    NaN       0.000000        NaN      NaN  \n",
       "25%          0.000000      -5.000000    NaN       1.000000        NaN      NaN  \n",
       "50%        100.000000       4.000000    NaN       1.000000        NaN      NaN  \n",
       "75%        100.000000      12.000000    NaN       2.000000        NaN      NaN  \n",
       "max        100.000000      87.000000    NaN       9.333333        NaN      NaN  "
      ]
     },
     "execution_count": 31,
     "metadata": {},
     "output_type": "execute_result"
    }
   ],
   "source": [
    "master_df = games_df.merge(power_conf, how='left', on='Conference')\\\n",
    "                .merge(multi_conf, how='left', on=['Conference','Year'], suffixes=('','_multi'))\n",
    "\n",
    "master_df['Category'] = np.where( (pd.isnull(master_df['Type'])), master_df['Type_multi'], master_df['Type'])\n",
    "master_df.describe(include='all')\n",
    "\n",
    "#master_df[master_df['Date']=='Sat, Feb 11, 2017']"
   ]
  },
  {
   "cell_type": "code",
   "execution_count": 33,
   "metadata": {
    "collapsed": true,
    "deletable": true,
    "editable": true
   },
   "outputs": [],
   "source": [
    "metric = \"Home_Margin\" # toggle with Home_Win\n",
    "\n",
    "\n",
    "# set up normalization\n",
    "score_index = master_df[['Year','Home_Pts','Away_Pts']].groupby('Year').mean()\n",
    "score_index['PPG'] = (score_index['Home_Pts'] + score_index['Away_Pts'])/2\n",
    "base = score_index.loc[2017, 'PPG']\n",
    "\n",
    "score_index['Index'] = score_index['PPG'] / base"
   ]
  },
  {
   "cell_type": "code",
   "execution_count": 47,
   "metadata": {
    "collapsed": false,
    "deletable": true,
    "editable": true
   },
   "outputs": [
    {
     "data": {
      "text/html": [
       "<div>\n",
       "<table border=\"1\" class=\"dataframe\">\n",
       "  <thead>\n",
       "    <tr style=\"text-align: right;\">\n",
       "      <th>Category</th>\n",
       "      <th>Major confs</th>\n",
       "      <th>Other multi-bids</th>\n",
       "      <th>Mid-majors</th>\n",
       "    </tr>\n",
       "    <tr>\n",
       "      <th>Year</th>\n",
       "      <th></th>\n",
       "      <th></th>\n",
       "      <th></th>\n",
       "    </tr>\n",
       "  </thead>\n",
       "  <tbody>\n",
       "    <tr>\n",
       "      <th>2013</th>\n",
       "      <td>4.153412</td>\n",
       "      <td>3.941051</td>\n",
       "      <td>3.330309</td>\n",
       "    </tr>\n",
       "    <tr>\n",
       "      <th>2014</th>\n",
       "      <td>4.156251</td>\n",
       "      <td>3.885997</td>\n",
       "      <td>3.247927</td>\n",
       "    </tr>\n",
       "    <tr>\n",
       "      <th>2015</th>\n",
       "      <td>4.049294</td>\n",
       "      <td>3.653336</td>\n",
       "      <td>2.996254</td>\n",
       "    </tr>\n",
       "    <tr>\n",
       "      <th>2016</th>\n",
       "      <td>3.961869</td>\n",
       "      <td>3.404030</td>\n",
       "      <td>2.867165</td>\n",
       "    </tr>\n",
       "    <tr>\n",
       "      <th>2017</th>\n",
       "      <td>3.892736</td>\n",
       "      <td>3.438401</td>\n",
       "      <td>2.867896</td>\n",
       "    </tr>\n",
       "  </tbody>\n",
       "</table>\n",
       "</div>"
      ],
      "text/plain": [
       "Category  Major confs  Other multi-bids  Mid-majors\n",
       "Year                                               \n",
       "2013         4.153412          3.941051    3.330309\n",
       "2014         4.156251          3.885997    3.247927\n",
       "2015         4.049294          3.653336    2.996254\n",
       "2016         3.961869          3.404030    2.867165\n",
       "2017         3.892736          3.438401    2.867896"
      ]
     },
     "execution_count": 47,
     "metadata": {},
     "output_type": "execute_result"
    }
   ],
   "source": [
    "mid_df = master_df.groupby(['Year','Category'])[metric].mean().reset_index()\n",
    "\n",
    "# Normalize for ppg differences\n",
    "if metric == \"Home_Margin\":\n",
    "    mid_df = mid_df.merge(score_index[['Index']], left_on='Year', right_index=True)\n",
    "    mid_df['Home_Margin'] = mid_df['Home_Margin'] / mid_df['Index']\n",
    "\n",
    "\n",
    "mid_df = mid_df.pivot('Year','Category',metric)\n",
    "\n",
    "graph_df = mid_df.rolling(5, center=True, min_periods=1).mean()\n",
    "graph_df = graph_df[['Power','Multi','Other']].rename(columns={'Power':'Major confs','Multi':'Other multi-bids','Other':'Mid-majors'})\n",
    "graph_df.tail()"
   ]
  },
  {
   "cell_type": "code",
   "execution_count": 48,
   "metadata": {
    "collapsed": true,
    "deletable": true,
    "editable": true
   },
   "outputs": [],
   "source": [
    "def draw_graph(df, colors, label_bool): # dataframe of graphs to be drawn; list of colors\n",
    "    \n",
    "    fig, ax = plt.subplots(figsize=(9,5))\n",
    "    plt.tick_params(axis='both', which='major', labelsize=14)\n",
    "\n",
    "    #ax.set_xlabel('Year', fontsize=14)\n",
    "    ax.set_ylabel(y_label, fontsize=14)\n",
    "    \n",
    "    #ax.set_xlim(-0.5,4.5)\n",
    "    #ax.set_ylim(75,125)\n",
    "    \n",
    "    #x_labels = ['< 20', '20-25', '25-30', '30-35', '35 +', '']\n",
    "    #plt.xticks(range(0, 5), x_labels, fontsize=14)\n",
    "    \n",
    "    ix = 0\n",
    "    for i in df.columns:\n",
    "        ax.plot(df[i], '-', color=colors[ix])\n",
    "        if label_bool:\n",
    "            ax.text(2017.5, df.loc[2017, i], i, ha='left', va='center', fontsize=14, color=colors[ix])\n",
    "        ix = ix+1\n",
    "    \n",
    "    if label_bool==False:\n",
    "        # custom labels\n",
    "        ax.text(2017.5, df.loc[2017, df.columns[0]]-0.1, df.columns[0], ha='left', va='center', fontsize=14, color=colors[0])\n",
    "        ax.text(2017.5, df.loc[2017, df.columns[1]], df.columns[1], ha='left', va='center', fontsize=14, color=colors[1])\n",
    "        ax.text(2017.5, df.loc[2017, df.columns[2]], df.columns[2], ha='left', va='center', fontsize=14, color=colors[2])\n",
    "        \n",
    "    ax.set_title(title, fontsize=16)\n",
    "    \n",
    "    y_min = ax.get_ylim()[0]\n",
    "    y_max = ax.get_ylim()[1]\n",
    "    y_range = (y_max - y_min)\n",
    "    ax.text(2025, y_min - 0.1*y_range, \"Note: 5-year rolling average normalized to 2017 avg ppg. Raw data via Sports-Reference.com; analysis by NYC Buckets\", ha='right', va='center', fontsize=10, color=\"#aaaaaa\")\n",
    "    \n",
    "    sns.despine()\n",
    "    #return data\n",
    "    "
   ]
  },
  {
   "cell_type": "code",
   "execution_count": 50,
   "metadata": {
    "collapsed": false,
    "deletable": true,
    "editable": true
   },
   "outputs": [
    {
     "data": {
      "image/png": "[encoded data removed]",
      "text/plain": [
       "<matplotlib.figure.Figure at 0x10501f98>"
      ]
     },
     "metadata": {},
     "output_type": "display_data"
    }
   ],
   "source": [
    "# general parameters:\n",
    "title = \"Home-court advantage is stronger in major conferences\"\n",
    "y_label = \"Home team scoring margin (ppg)\"\n",
    "f_name = \"NCAA_home_court_advantage_conference\"\n",
    "colors = ['#145a32', '#27ae60','#a9dfbf']\n",
    "\n",
    "sns.set_style('white')\n",
    "draw_graph(graph_df[30:], colors, True)\n",
    "plt.savefig(\"imgs/\"+f_name+\".jpg\", bbox_inches=\"tight\")\n",
    "plt.show()\n",
    "plt.close()"
   ]
  },
  {
   "cell_type": "markdown",
   "metadata": {},
   "source": [
    "Home-court advantage is stronger in major conferences, but gap has not changed much since ~1990"
   ]
  },
  {
   "cell_type": "markdown",
   "metadata": {},
   "source": [
    "##### Do attendance patterns correlate with home-court advantage?"
   ]
  },
  {
   "cell_type": "code",
   "execution_count": 40,
   "metadata": {
    "collapsed": true,
    "deletable": true,
    "editable": true
   },
   "outputs": [],
   "source": [
    "attendance_df = pd.read_csv('attendance_total.csv')\n",
    "\n",
    "# feed in cleaned games data\n",
    "games_df = pd.read_csv('conference_games.csv')\n",
    "games_df['Home_Win'] = np.where( (games_df['Home_Pts'] > games_df['Away_Pts']), 100, 0)\n",
    "games_df['Home_Margin'] = games_df['Home_Pts'] - games_df['Away_Pts']\n",
    "#games_df.describe(include='all')"
   ]
  },
  {
   "cell_type": "code",
   "execution_count": 41,
   "metadata": {
    "collapsed": false,
    "deletable": true,
    "editable": true
   },
   "outputs": [],
   "source": [
    "master_sum = games_df.groupby(['Year'])['Home_Win','Home_Margin'].mean()\n",
    "output_mgn = master_sum[['Home_Margin']].rename(columns={'Home_Margin': 'HCA'})\n",
    "\n",
    "output_mgn = output_mgn.merge(attendance_df, how='left', left_index=True, right_on='Year').set_index('Year')\n",
    "\n",
    "# only if rolling:\n",
    "output_mgn['HCA (5Y avg)'] = output_mgn['HCA'].rolling(5, center=True, min_periods=1).mean()\n",
    "output_mgn['Attendance (5Y avg)'] = output_mgn['Avg'].rolling(5, center=True, min_periods=1).mean()\n",
    "output_mgn = output_mgn.drop(['HCA','Avg'], axis=1)\n",
    "\n",
    "#output_mgn.tail()"
   ]
  },
  {
   "cell_type": "code",
   "execution_count": 42,
   "metadata": {
    "collapsed": true,
    "deletable": true,
    "editable": true
   },
   "outputs": [],
   "source": [
    "def draw_graph(df, colors, label_bool): # dataframe of graphs to be drawn; list of colors\n",
    "    \n",
    "    fig, ax = plt.subplots(figsize=(9,5))\n",
    "    plt.tick_params(axis='both', which='major', labelsize=14)\n",
    "    \n",
    "    ax2 = ax.twinx()\n",
    "    #ax.set_xlabel('Year', fontsize=14)\n",
    "    ax.set_ylabel(y_label, fontsize=14, color=colors[0])\n",
    "    ax2.set_ylabel(y_label_2, fontsize=14, color=colors[1])\n",
    "    \n",
    "    #ax.set_xlim(-0.5,4.5)\n",
    "    #ax.set_ylim(75,125)\n",
    "    \n",
    "    #x_labels = ['< 20', '20-25', '25-30', '30-35', '35 +', '']\n",
    "    #plt.xticks(range(0, 5), x_labels, fontsize=14)\n",
    "    \n",
    "    ax.plot(df[df.columns[0]], '-', color=colors[0])\n",
    "    ax2.plot(df[df.columns[1]], '-', color=colors[1])\n",
    "    \n",
    "    ax2.yaxis.set_label_position(\"right\")\n",
    "    \n",
    "    if label_bool==False:\n",
    "        # custom labels\n",
    "        ax.text(2017.5, df.loc[2017, df.columns[0]], df.columns[0], ha='left', va='center', fontsize=14, color=colors[0])\n",
    "        ax.text(2017.5, df.loc[2017, df.columns[1]]+0.1, df.columns[1], ha='left', va='center', fontsize=14, color=colors[1])\n",
    "        \n",
    "    ax.set_title(title, fontsize=16)\n",
    "    \n",
    "    y_min = ax.get_ylim()[0]\n",
    "    y_max = ax.get_ylim()[1]\n",
    "    y_range = (y_max - y_min)\n",
    "    ax.text(2020, y_min - 0.1*y_range, \"Note: Normalized to overall 2017 scoring environment. Raw data via Sports-Reference.com and NCAA; analysis by NYC Buckets\", ha='right', va='center', fontsize=10, color=\"#aaaaaa\")\n",
    "    \n",
    "    sns.despine(ax=ax, right=True, left=False) \n",
    "    sns.despine(ax=ax2, left=True, right=False) \n",
    "    #return data\n",
    "    "
   ]
  },
  {
   "cell_type": "code",
   "execution_count": 43,
   "metadata": {
    "collapsed": false,
    "deletable": true,
    "editable": true
   },
   "outputs": [
    {
     "data": {
      "image/png": "[encoded data removed]",
      "text/plain": [
       "<matplotlib.figure.Figure at 0xdd90828>"
      ]
     },
     "metadata": {},
     "output_type": "display_data"
    }
   ],
   "source": [
    "### Graph scoring margin:\n",
    "\n",
    "# general parameters:\n",
    "title = \"Home-court advantage is declining with attendance\"\n",
    "y_label = \"Home team scoring margin (ppg, 5y avg.)\"\n",
    "y_label_2 = \"Avg. NCAA attendance (5y avg.)\"\n",
    "f_name = \"NCAA_home_court_advantage_attendance\"\n",
    "colors = ['#000099','#e67e22']\n",
    "\n",
    "sns.set_style('white')\n",
    "draw_graph(output_mgn[40:], colors, True)\n",
    "plt.savefig(\"imgs/\"+f_name+\".jpg\", bbox_inches=\"tight\")\n",
    "plt.show()\n",
    "plt.close()"
   ]
  },
  {
   "cell_type": "markdown",
   "metadata": {
    "collapsed": true,
    "deletable": true,
    "editable": true
   },
   "source": [
    "Home-court advantage and attendance are both falling since ~1990, though relationship is not perfect"
   ]
  },
  {
   "cell_type": "code",
   "execution_count": null,
   "metadata": {
    "collapsed": true,
    "deletable": true,
    "editable": true
   },
   "outputs": [],
   "source": []
  }
 ],
 "metadata": {
  "kernelspec": {
   "display_name": "Python 2",
   "language": "python",
   "name": "python2"
  },
  "language_info": {
   "codemirror_mode": {
    "name": "ipython",
    "version": 2
   },
   "file_extension": ".py",
   "mimetype": "text/x-python",
   "name": "python",
   "nbconvert_exporter": "python",
   "pygments_lexer": "ipython2",
   "version": "2.7.13"
  }
 },
 "nbformat": 4,
 "nbformat_minor": 0
}
